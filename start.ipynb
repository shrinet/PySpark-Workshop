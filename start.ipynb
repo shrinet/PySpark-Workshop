{
 "cells": [
  {
   "cell_type": "code",
   "execution_count": null,
   "metadata": {},
   "outputs": [
    {
     "name": "stdout",
     "output_type": "stream",
     "text": [
      "tensor([[0.6205, 0.7793, 0.2862],\n",
      "        [0.2058, 0.2933, 0.8434],\n",
      "        [0.2307, 0.2773, 0.7365],\n",
      "        [0.3873, 0.2145, 0.8857],\n",
      "        [0.9831, 0.7904, 0.4737]])\n"
     ]
    }
   ],
   "source": [
    "# Install the torch package\n",
    "%pip install torch\n",
    "\n",
    "import torch\n",
    "x = torch.rand(5, 3)\n",
    "print(x)"
   ]
  }
 ],
 "metadata": {
  "kernelspec": {
   "display_name": ".spark",
   "language": "python",
   "name": "python3"
  },
  "language_info": {
   "codemirror_mode": {
    "name": "ipython",
    "version": 3
   },
   "file_extension": ".py",
   "mimetype": "text/x-python",
   "name": "python",
   "nbconvert_exporter": "python",
   "pygments_lexer": "ipython3",
   "version": "3.12.3"
  }
 },
 "nbformat": 4,
 "nbformat_minor": 2
}
